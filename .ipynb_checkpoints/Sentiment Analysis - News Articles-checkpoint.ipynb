{
 "cells": [
  {
   "cell_type": "markdown",
   "metadata": {},
   "source": [
    "# Sentiment analysis on news dataset using TextBlob and Afinn Lexicon\n",
    "\n",
    "## Dataset link : https://www.kaggle.com/asad1m9a9h6mood/news-articles/data\n",
    "\n",
    "## The AFINN lexicon is one of the simplest and most popular lexicons that can be used extensively for sentiment analysis.\n",
    "## TextBlob is an excellent open-source library for performing NLP tasks with ease, including sentiment analysis. It also has a sentiment lexicon (in the form of an XML file) which it leverages to give both polarity and subjectivity scores. "
   ]
  },
  {
   "cell_type": "markdown",
   "metadata": {},
   "source": [
    "### Including the required libraries, and reading the dataset.\n",
    "### Predicting sentiments using TextBlob\n",
    "### The sentiment is \"positive\" if the score is greater than 0, \"neutral\" if equal to zero and \"negative\" if less than 0."
   ]
  },
  {
   "cell_type": "code",
   "execution_count": 3,
   "metadata": {},
   "outputs": [
    {
     "name": "stdout",
     "output_type": "stream",
     "text": [
      "Sentiment analysis statistics using TextBlob\n"
     ]
    },
    {
     "data": {
      "text/html": [
       "<div>\n",
       "<style scoped>\n",
       "    .dataframe tbody tr th:only-of-type {\n",
       "        vertical-align: middle;\n",
       "    }\n",
       "\n",
       "    .dataframe tbody tr th {\n",
       "        vertical-align: top;\n",
       "    }\n",
       "\n",
       "    .dataframe thead tr th {\n",
       "        text-align: left;\n",
       "    }\n",
       "\n",
       "    .dataframe thead tr:last-of-type th {\n",
       "        text-align: right;\n",
       "    }\n",
       "</style>\n",
       "<table border=\"1\" class=\"dataframe\">\n",
       "  <thead>\n",
       "    <tr>\n",
       "      <th></th>\n",
       "      <th colspan=\"8\" halign=\"left\">sentiment_score</th>\n",
       "    </tr>\n",
       "    <tr>\n",
       "      <th></th>\n",
       "      <th>count</th>\n",
       "      <th>mean</th>\n",
       "      <th>std</th>\n",
       "      <th>min</th>\n",
       "      <th>25%</th>\n",
       "      <th>50%</th>\n",
       "      <th>75%</th>\n",
       "      <th>max</th>\n",
       "    </tr>\n",
       "    <tr>\n",
       "      <th>news_category</th>\n",
       "      <th></th>\n",
       "      <th></th>\n",
       "      <th></th>\n",
       "      <th></th>\n",
       "      <th></th>\n",
       "      <th></th>\n",
       "      <th></th>\n",
       "      <th></th>\n",
       "    </tr>\n",
       "  </thead>\n",
       "  <tbody>\n",
       "    <tr>\n",
       "      <th>business</th>\n",
       "      <td>920.0</td>\n",
       "      <td>0.046987</td>\n",
       "      <td>0.097260</td>\n",
       "      <td>-0.267</td>\n",
       "      <td>-0.014</td>\n",
       "      <td>0.046</td>\n",
       "      <td>0.10400</td>\n",
       "      <td>0.500</td>\n",
       "    </tr>\n",
       "    <tr>\n",
       "      <th>sports</th>\n",
       "      <td>1408.0</td>\n",
       "      <td>0.113124</td>\n",
       "      <td>0.108598</td>\n",
       "      <td>-1.000</td>\n",
       "      <td>0.050</td>\n",
       "      <td>0.107</td>\n",
       "      <td>0.17000</td>\n",
       "      <td>0.800</td>\n",
       "    </tr>\n",
       "    <tr>\n",
       "      <th>world</th>\n",
       "      <td>364.0</td>\n",
       "      <td>0.067016</td>\n",
       "      <td>0.094571</td>\n",
       "      <td>-0.205</td>\n",
       "      <td>0.015</td>\n",
       "      <td>0.072</td>\n",
       "      <td>0.11625</td>\n",
       "      <td>0.396</td>\n",
       "    </tr>\n",
       "  </tbody>\n",
       "</table>\n",
       "</div>"
      ],
      "text/plain": [
       "              sentiment_score                                           \\\n",
       "                        count      mean       std    min    25%    50%   \n",
       "news_category                                                            \n",
       "business                920.0  0.046987  0.097260 -0.267 -0.014  0.046   \n",
       "sports                 1408.0  0.113124  0.108598 -1.000  0.050  0.107   \n",
       "world                   364.0  0.067016  0.094571 -0.205  0.015  0.072   \n",
       "\n",
       "                               \n",
       "                   75%    max  \n",
       "news_category                  \n",
       "business       0.10400  0.500  \n",
       "sports         0.17000  0.800  \n",
       "world          0.11625  0.396  "
      ]
     },
     "execution_count": 3,
     "metadata": {},
     "output_type": "execute_result"
    }
   ],
   "source": [
    "from textblob import TextBlob\n",
    "import pandas as pd\n",
    "\n",
    "news_df = pd.read_csv(\"news.csv\")\n",
    "\n",
    "# compute sentiment scores (polarity) and labels\n",
    "sentiment_scores_tb = [round(TextBlob(article).sentiment.polarity, 3) for article in news_df['Article']]\n",
    "sentiment_category_tb = ['positive' if score > 0 \n",
    "                             else 'negative' if score < 0 \n",
    "                                 else 'neutral' \n",
    "                                     for score in sentiment_scores_tb]\n",
    "\n",
    "\n",
    "# sentiment statistics per news category\n",
    "print(\"Sentiment analysis statistics using TextBlob\")\n",
    "df = pd.DataFrame([list(news_df['NewsType']), sentiment_scores_tb, sentiment_category_tb]).T\n",
    "df.columns = ['news_category', 'sentiment_score', 'sentiment_category']\n",
    "df['sentiment_score'] = df.sentiment_score.astype('float')\n",
    "df.groupby(by=['news_category']).describe()"
   ]
  },
  {
   "cell_type": "markdown",
   "metadata": {},
   "source": [
    "### Plotting the sentiments"
   ]
  },
  {
   "cell_type": "code",
   "execution_count": 4,
   "metadata": {},
   "outputs": [
    {
     "data": {
      "image/png": "[encoded data removed]",
      "text/plain": [
       "<Figure size 1008x288 with 2 Axes>"
      ]
     },
     "metadata": {
      "needs_background": "light"
     },
     "output_type": "display_data"
    }
   ],
   "source": [
    "import matplotlib.pyplot as plt\n",
    "\n",
    "import seaborn as sns\n",
    "\n",
    "f, (ax1, ax2) = plt.subplots(1, 2, figsize=(14, 4))\n",
    "sp = sns.stripplot(x='news_category', y=\"sentiment_score\", \n",
    "                   hue='news_category', data=df, ax=ax1)\n",
    "bp = sns.boxplot(x='news_category', y=\"sentiment_score\", \n",
    "                 hue='news_category', data=df, palette=\"Set2\", ax=ax2)\n",
    "t = f.suptitle('Visualizing News Sentiment', fontsize=14)"
   ]
  },
  {
   "cell_type": "code",
   "execution_count": 5,
   "metadata": {},
   "outputs": [
    {
     "data": {
      "image/png": "[encoded data removed]",
      "text/plain": [
       "<Figure size 467.5x360 with 1 Axes>"
      ]
     },
     "metadata": {
      "needs_background": "light"
     },
     "output_type": "display_data"
    }
   ],
   "source": [
    "fc = sns.catplot(x=\"news_category\", hue=\"sentiment_category\", \n",
    "                    data=df, kind=\"count\", \n",
    "                    palette={\"negative\": \"#FE2020\", \n",
    "                             \"positive\": \"#BADD07\", \n",
    "                             \"neutral\": \"#68BFF5\"})"
   ]
  },
  {
   "cell_type": "markdown",
   "metadata": {},
   "source": [
    "### Predicting the sentiments using Afinn analysing lexicon."
   ]
  },
  {
   "cell_type": "code",
   "execution_count": 7,
   "metadata": {},
   "outputs": [
    {
     "name": "stdout",
     "output_type": "stream",
     "text": [
      "Sentiment analysis statistics using Afinn lexicon\n"
     ]
    },
    {
     "data": {
      "text/html": [
       "<div>\n",
       "<style scoped>\n",
       "    .dataframe tbody tr th:only-of-type {\n",
       "        vertical-align: middle;\n",
       "    }\n",
       "\n",
       "    .dataframe tbody tr th {\n",
       "        vertical-align: top;\n",
       "    }\n",
       "\n",
       "    .dataframe thead tr th {\n",
       "        text-align: left;\n",
       "    }\n",
       "\n",
       "    .dataframe thead tr:last-of-type th {\n",
       "        text-align: right;\n",
       "    }\n",
       "</style>\n",
       "<table border=\"1\" class=\"dataframe\">\n",
       "  <thead>\n",
       "    <tr>\n",
       "      <th></th>\n",
       "      <th colspan=\"8\" halign=\"left\">sentiment_score</th>\n",
       "    </tr>\n",
       "    <tr>\n",
       "      <th></th>\n",
       "      <th>count</th>\n",
       "      <th>mean</th>\n",
       "      <th>std</th>\n",
       "      <th>min</th>\n",
       "      <th>25%</th>\n",
       "      <th>50%</th>\n",
       "      <th>75%</th>\n",
       "      <th>max</th>\n",
       "    </tr>\n",
       "    <tr>\n",
       "      <th>news_category</th>\n",
       "      <th></th>\n",
       "      <th></th>\n",
       "      <th></th>\n",
       "      <th></th>\n",
       "      <th></th>\n",
       "      <th></th>\n",
       "      <th></th>\n",
       "      <th></th>\n",
       "    </tr>\n",
       "  </thead>\n",
       "  <tbody>\n",
       "    <tr>\n",
       "      <th>business</th>\n",
       "      <td>920.0</td>\n",
       "      <td>6.269565</td>\n",
       "      <td>16.463074</td>\n",
       "      <td>-72.0</td>\n",
       "      <td>-3.00</td>\n",
       "      <td>4.0</td>\n",
       "      <td>12.25</td>\n",
       "      <td>88.0</td>\n",
       "    </tr>\n",
       "    <tr>\n",
       "      <th>sports</th>\n",
       "      <td>1408.0</td>\n",
       "      <td>10.089489</td>\n",
       "      <td>17.100288</td>\n",
       "      <td>-73.0</td>\n",
       "      <td>0.00</td>\n",
       "      <td>7.0</td>\n",
       "      <td>18.00</td>\n",
       "      <td>91.0</td>\n",
       "    </tr>\n",
       "    <tr>\n",
       "      <th>world</th>\n",
       "      <td>364.0</td>\n",
       "      <td>10.431319</td>\n",
       "      <td>17.912343</td>\n",
       "      <td>-60.0</td>\n",
       "      <td>1.75</td>\n",
       "      <td>8.0</td>\n",
       "      <td>17.00</td>\n",
       "      <td>84.0</td>\n",
       "    </tr>\n",
       "  </tbody>\n",
       "</table>\n",
       "</div>"
      ],
      "text/plain": [
       "              sentiment_score                                                \\\n",
       "                        count       mean        std   min   25%  50%    75%   \n",
       "news_category                                                                 \n",
       "business                920.0   6.269565  16.463074 -72.0 -3.00  4.0  12.25   \n",
       "sports                 1408.0  10.089489  17.100288 -73.0  0.00  7.0  18.00   \n",
       "world                   364.0  10.431319  17.912343 -60.0  1.75  8.0  17.00   \n",
       "\n",
       "                     \n",
       "                max  \n",
       "news_category        \n",
       "business       88.0  \n",
       "sports         91.0  \n",
       "world          84.0  "
      ]
     },
     "execution_count": 7,
     "metadata": {},
     "output_type": "execute_result"
    }
   ],
   "source": [
    "\n",
    "# initialize afinn sentiment analyzer\n",
    "from afinn import Afinn\n",
    "af = Afinn()\n",
    "\n",
    "# compute sentiment scores (polarity) and labels\n",
    "sentiment_scores = [af.score(article) for article in news_df['Article']]\n",
    "sentiment_category = ['positive' if score > 0 \n",
    "                          else 'negative' if score < 0 \n",
    "                              else 'neutral' \n",
    "                                  for score in sentiment_scores]\n",
    "\n",
    "# sentiment statistics per news category\n",
    "print(\"Sentiment analysis statistics using Afinn lexicon\")\n",
    "df = pd.DataFrame([list(news_df['NewsType']), sentiment_scores, sentiment_category]).T\n",
    "df.columns = ['news_category', 'sentiment_score', 'sentiment_category']\n",
    "df['sentiment_score'] = df.sentiment_score.astype('float')\n",
    "df.groupby(by=['news_category']).describe()"
   ]
  },
  {
   "cell_type": "code",
   "execution_count": 8,
   "metadata": {},
   "outputs": [
    {
     "name": "stdout",
     "output_type": "stream",
     "text": [
      "0       negative\n",
      "1       positive\n",
      "2       positive\n",
      "3       negative\n",
      "4       negative\n",
      "          ...   \n",
      "2687    negative\n",
      "2688    positive\n",
      "2689    negative\n",
      "2690    positive\n",
      "2691    positive\n",
      "Name: Classification, Length: 2692, dtype: object\n"
     ]
    }
   ],
   "source": [
    "actualResults = news_df['Classification']\n",
    "print(actualResults)"
   ]
  },
  {
   "cell_type": "markdown",
   "metadata": {},
   "source": [
    "## Creating confusion matrix of actual sentiment values versus predicted sentiments.\n",
    "## Finding the accuracy of the model and displaying the report inlcuding precision and recall.\n",
    "\n",
    "### Accuracy = (TP + TN) / (TP + TN + FP + FN)\n",
    "### Precision = TP / (TP + FP)\n",
    "### Recall = TP / (TP + FN)\n",
    "\n"
   ]
  },
  {
   "cell_type": "markdown",
   "metadata": {},
   "source": [
    "#### Comparison using Afinn lexicon generated values\n"
   ]
  },
  {
   "cell_type": "code",
   "execution_count": 11,
   "metadata": {},
   "outputs": [
    {
     "name": "stdout",
     "output_type": "stream",
     "text": [
      "[[ 681    0    0]\n",
      " [   0  103    0]\n",
      " [   0    0 1908]]\n"
     ]
    },
    {
     "data": {
      "image/png": "[encoded data removed]",
      "text/plain": [
       "<Figure size 432x288 with 2 Axes>"
      ]
     },
     "metadata": {
      "needs_background": "light"
     },
     "output_type": "display_data"
    },
    {
     "name": "stdout",
     "output_type": "stream",
     "text": [
      "Accuracy Score :\n",
      "1.0\n",
      "Report : \n",
      "              precision    recall  f1-score   support\n",
      "\n",
      "    negative       1.00      1.00      1.00       681\n",
      "     neutral       1.00      1.00      1.00       103\n",
      "    positive       1.00      1.00      1.00      1908\n",
      "\n",
      "    accuracy                           1.00      2692\n",
      "   macro avg       1.00      1.00      1.00      2692\n",
      "weighted avg       1.00      1.00      1.00      2692\n",
      "\n"
     ]
    }
   ],
   "source": [
    "from sklearn.metrics import confusion_matrix\n",
    "from sklearn.metrics import accuracy_score \n",
    "from sklearn.metrics import classification_report \n",
    "\n",
    "labels = ['negative', 'neutral', 'positive']\n",
    "cm_afinn = confusion_matrix(actualResults, sentiment_category,labels )\n",
    "print(cm_afinn)\n",
    "fig_a = plt.figure()\n",
    "ax_a = fig_a.add_subplot(111)\n",
    "cax_a = ax_a.matshow(cm_afinn)\n",
    "plt.title('Confusion matrix of the classifier')\n",
    "fig_a.colorbar(cax_a)\n",
    "ax_a.set_xticklabels([''] + labels)\n",
    "ax_a.set_yticklabels([''] + labels)\n",
    "plt.xlabel('Predicted')\n",
    "plt.ylabel('True')\n",
    "plt.show()\n",
    "\n",
    "print('Accuracy Score :')\n",
    "print(accuracy_score(actualResults, sentiment_category))\n",
    "print ('Report : ')\n",
    "print (classification_report(actualResults, sentiment_category))"
   ]
  },
  {
   "cell_type": "markdown",
   "metadata": {},
   "source": [
    "#### Comparison using TextBlob generated values"
   ]
  },
  {
   "cell_type": "code",
   "execution_count": 12,
   "metadata": {},
   "outputs": [
    {
     "name": "stdout",
     "output_type": "stream",
     "text": [
      "[[ 285    7  389]\n",
      " [  30    4   69]\n",
      " [ 169   34 1705]]\n"
     ]
    },
    {
     "data": {
      "image/png": "[encoded data removed]",
      "text/plain": [
       "<Figure size 432x288 with 2 Axes>"
      ]
     },
     "metadata": {
      "needs_background": "light"
     },
     "output_type": "display_data"
    },
    {
     "name": "stdout",
     "output_type": "stream",
     "text": [
      "Accuracy Score :\n",
      "0.7407132243684993\n",
      "Report : \n",
      "              precision    recall  f1-score   support\n",
      "\n",
      "    negative       0.59      0.42      0.49       681\n",
      "     neutral       0.09      0.04      0.05       103\n",
      "    positive       0.79      0.89      0.84      1908\n",
      "\n",
      "    accuracy                           0.74      2692\n",
      "   macro avg       0.49      0.45      0.46      2692\n",
      "weighted avg       0.71      0.74      0.72      2692\n",
      "\n"
     ]
    }
   ],
   "source": [
    "\n",
    "cm = confusion_matrix(actualResults, sentiment_category_tb,labels )\n",
    "print(cm)\n",
    "fig = plt.figure()\n",
    "ax = fig.add_subplot(111)\n",
    "cax = ax.matshow(cm)\n",
    "plt.title('Confusion matrix of the classifier')\n",
    "fig.colorbar(cax)\n",
    "ax.set_xticklabels([''] + labels)\n",
    "ax.set_yticklabels([''] + labels)\n",
    "plt.xlabel('Predicted')\n",
    "plt.ylabel('True')\n",
    "plt.show()\n",
    "\n",
    "print('Accuracy Score :')\n",
    "print(accuracy_score(actualResults, sentiment_category_tb))\n",
    "print ('Report : ')\n",
    "print (classification_report(actualResults, sentiment_category_tb))"
   ]
  },
  {
   "cell_type": "markdown",
   "metadata": {},
   "source": [
    "#### REFERENCES:\n",
    "##### https://blog.lftechnology.com/predicting-sentiment-on-news-data-45c5c22ec2e3\n",
    "##### https://www.geeksforgeeks.org/confusion-matrix-machine-learning/\n",
    "##### https://github.com/fnielsen/afinn"
   ]
  },
  {
   "cell_type": "code",
   "execution_count": null,
   "metadata": {},
   "outputs": [],
   "source": []
  }
 ],
 "metadata": {
  "kernelspec": {
   "display_name": "Python 3",
   "language": "python",
   "name": "python3"
  },
  "language_info": {
   "codemirror_mode": {
    "name": "ipython",
    "version": 3
   },
   "file_extension": ".py",
   "mimetype": "text/x-python",
   "name": "python",
   "nbconvert_exporter": "python",
   "pygments_lexer": "ipython3",
   "version": "3.7.6"
  }
 },
 "nbformat": 4,
 "nbformat_minor": 4
}
