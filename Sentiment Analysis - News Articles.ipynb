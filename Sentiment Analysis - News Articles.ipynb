{
 "cells": [
  {
   "cell_type": "markdown",
   "metadata": {},
   "source": [
    "# Sentiment analysis on news dataset using TextBlob\n",
    "\n",
    "## Dataset link : https://www.kaggle.com/asad1m9a9h6mood/news-articles/data\n",
    "## TextBlob is an excellent open-source library for performing NLP tasks with ease, including sentiment analysis. It also has a sentiment lexicon (in the form of an XML file) which it leverages to give both polarity and subjectivity scores. "
   ]
  },
  {
   "cell_type": "markdown",
   "metadata": {},
   "source": [
    "### Including the required libraries, and reading the dataset.\n",
    "### The sentiment is \"positive\" if the score is greater than 0, \"neutral\" if equal to zero and \"negative\" if less than 0."
   ]
  },
  {
   "cell_type": "code",
   "execution_count": 1,
   "metadata": {},
   "outputs": [
    {
     "data": {
      "text/html": [
       "<div>\n",
       "<style scoped>\n",
       "    .dataframe tbody tr th:only-of-type {\n",
       "        vertical-align: middle;\n",
       "    }\n",
       "\n",
       "    .dataframe tbody tr th {\n",
       "        vertical-align: top;\n",
       "    }\n",
       "\n",
       "    .dataframe thead tr th {\n",
       "        text-align: left;\n",
       "    }\n",
       "\n",
       "    .dataframe thead tr:last-of-type th {\n",
       "        text-align: right;\n",
       "    }\n",
       "</style>\n",
       "<table border=\"1\" class=\"dataframe\">\n",
       "  <thead>\n",
       "    <tr>\n",
       "      <th></th>\n",
       "      <th colspan=\"8\" halign=\"left\">sentiment_score</th>\n",
       "    </tr>\n",
       "    <tr>\n",
       "      <th></th>\n",
       "      <th>count</th>\n",
       "      <th>mean</th>\n",
       "      <th>std</th>\n",
       "      <th>min</th>\n",
       "      <th>25%</th>\n",
       "      <th>50%</th>\n",
       "      <th>75%</th>\n",
       "      <th>max</th>\n",
       "    </tr>\n",
       "    <tr>\n",
       "      <th>news_category</th>\n",
       "      <th></th>\n",
       "      <th></th>\n",
       "      <th></th>\n",
       "      <th></th>\n",
       "      <th></th>\n",
       "      <th></th>\n",
       "      <th></th>\n",
       "      <th></th>\n",
       "    </tr>\n",
       "  </thead>\n",
       "  <tbody>\n",
       "    <tr>\n",
       "      <th>business</th>\n",
       "      <td>920.0</td>\n",
       "      <td>0.046987</td>\n",
       "      <td>0.097260</td>\n",
       "      <td>-0.267</td>\n",
       "      <td>-0.014</td>\n",
       "      <td>0.046</td>\n",
       "      <td>0.10400</td>\n",
       "      <td>0.500</td>\n",
       "    </tr>\n",
       "    <tr>\n",
       "      <th>sports</th>\n",
       "      <td>1408.0</td>\n",
       "      <td>0.113124</td>\n",
       "      <td>0.108598</td>\n",
       "      <td>-1.000</td>\n",
       "      <td>0.050</td>\n",
       "      <td>0.107</td>\n",
       "      <td>0.17000</td>\n",
       "      <td>0.800</td>\n",
       "    </tr>\n",
       "    <tr>\n",
       "      <th>world</th>\n",
       "      <td>364.0</td>\n",
       "      <td>0.067016</td>\n",
       "      <td>0.094571</td>\n",
       "      <td>-0.205</td>\n",
       "      <td>0.015</td>\n",
       "      <td>0.072</td>\n",
       "      <td>0.11625</td>\n",
       "      <td>0.396</td>\n",
       "    </tr>\n",
       "  </tbody>\n",
       "</table>\n",
       "</div>"
      ],
      "text/plain": [
       "              sentiment_score                                           \\\n",
       "                        count      mean       std    min    25%    50%   \n",
       "news_category                                                            \n",
       "business                920.0  0.046987  0.097260 -0.267 -0.014  0.046   \n",
       "sports                 1408.0  0.113124  0.108598 -1.000  0.050  0.107   \n",
       "world                   364.0  0.067016  0.094571 -0.205  0.015  0.072   \n",
       "\n",
       "                               \n",
       "                   75%    max  \n",
       "news_category                  \n",
       "business       0.10400  0.500  \n",
       "sports         0.17000  0.800  \n",
       "world          0.11625  0.396  "
      ]
     },
     "execution_count": 1,
     "metadata": {},
     "output_type": "execute_result"
    }
   ],
   "source": [
    "from textblob import TextBlob\n",
    "import pandas as pd\n",
    "\n",
    "news_df = pd.read_csv(\"News.csv\")\n",
    "\n",
    "# compute sentiment scores (polarity) and labels\n",
    "sentiment_scores_tb = [round(TextBlob(article).sentiment.polarity, 3) for article in news_df['Article']]\n",
    "sentiment_category_tb = ['positive' if score > 0 \n",
    "                             else 'negative' if score < 0 \n",
    "                                 else 'neutral' \n",
    "                                     for score in sentiment_scores_tb]\n",
    "\n",
    "\n",
    "# sentiment statistics per news category\n",
    "df = pd.DataFrame([list(news_df['NewsType']), sentiment_scores_tb, sentiment_category_tb]).T\n",
    "df.columns = ['news_category', 'sentiment_score', 'sentiment_category']\n",
    "df['sentiment_score'] = df.sentiment_score.astype('float')\n",
    "df.groupby(by=['news_category']).describe()"
   ]
  },
  {
   "cell_type": "markdown",
   "metadata": {},
   "source": [
    "### Plotting the sentiments"
   ]
  },
  {
   "cell_type": "code",
   "execution_count": 2,
   "metadata": {},
   "outputs": [
    {
     "data": {
      "image/png": "[encoded data removed]",
      "text/plain": [
       "<Figure size 1008x288 with 2 Axes>"
      ]
     },
     "metadata": {
      "needs_background": "light"
     },
     "output_type": "display_data"
    }
   ],
   "source": [
    "import matplotlib.pyplot as plt\n",
    "\n",
    "import seaborn as sns\n",
    "\n",
    "f, (ax1, ax2) = plt.subplots(1, 2, figsize=(14, 4))\n",
    "sp = sns.stripplot(x='news_category', y=\"sentiment_score\", \n",
    "                   hue='news_category', data=df, ax=ax1)\n",
    "bp = sns.boxplot(x='news_category', y=\"sentiment_score\", \n",
    "                 hue='news_category', data=df, palette=\"Set2\", ax=ax2)\n",
    "t = f.suptitle('Visualizing News Sentiment', fontsize=14)"
   ]
  },
  {
   "cell_type": "code",
   "execution_count": 3,
   "metadata": {},
   "outputs": [
    {
     "name": "stderr",
     "output_type": "stream",
     "text": [
      "/home/utkarsha/anaconda3/lib/python3.7/site-packages/seaborn/categorical.py:3669: UserWarning: The `factorplot` function has been renamed to `catplot`. The original name will be removed in a future release. Please update your code. Note that the default `kind` in `factorplot` (`'point'`) has changed `'strip'` in `catplot`.\n",
      "  warnings.warn(msg)\n"
     ]
    },
    {
     "data": {
      "image/png": "[encoded data removed]",
      "text/plain": [
       "<Figure size 467.5x360 with 1 Axes>"
      ]
     },
     "metadata": {
      "needs_background": "light"
     },
     "output_type": "display_data"
    }
   ],
   "source": [
    "fc = sns.factorplot(x=\"news_category\", hue=\"sentiment_category\", \n",
    "                    data=df, kind=\"count\", \n",
    "                    palette={\"negative\": \"#FE2020\", \n",
    "                             \"positive\": \"#BADD07\", \n",
    "                             \"neutral\": \"#68BFF5\"})"
   ]
  },
  {
   "cell_type": "markdown",
   "metadata": {},
   "source": [
    "### Displaying the actual sentiments of the articles using Afinn analysing lexicon."
   ]
  },
  {
   "cell_type": "code",
   "execution_count": 4,
   "metadata": {},
   "outputs": [
    {
     "name": "stdout",
     "output_type": "stream",
     "text": [
      "0       negative\n",
      "1        neutral\n",
      "2       positive\n",
      "3       negative\n",
      "4       negative\n",
      "          ...   \n",
      "2687    negative\n",
      "2688    negative\n",
      "2689    negative\n",
      "2690    negative\n",
      "2691    negative\n",
      "Name: classification, Length: 2692, dtype: object\n"
     ]
    }
   ],
   "source": [
    "actualResults = news_df['classification']\n",
    "print(actualResults)"
   ]
  },
  {
   "attachments": {},
   "cell_type": "markdown",
   "metadata": {},
   "source": [
    "## Creating confusion matrix of actual versus predicted sentiments.\n",
    "## Finding the accuracy of the model and displaying the report inlcuding precision and recall.\n",
    "\n",
    "### Accuracy = (TP + TN) / (TP + TN + FP + FN)\n",
    "### Precision = TP / (TP + FP)\n",
    "### Recall = TP / (TP + FN)\n",
    "\n"
   ]
  },
  {
   "cell_type": "code",
   "execution_count": 5,
   "metadata": {},
   "outputs": [
    {
     "name": "stdout",
     "output_type": "stream",
     "text": [
      "[[ 257   30 1067]\n",
      " [  76    5  346]\n",
      " [ 151   10  750]]\n"
     ]
    },
    {
     "data": {
      "image/png": "[encoded data removed]",
      "text/plain": [
       "<Figure size 432x288 with 2 Axes>"
      ]
     },
     "metadata": {
      "needs_background": "light"
     },
     "output_type": "display_data"
    },
    {
     "name": "stdout",
     "output_type": "stream",
     "text": [
      "Accuracy Score :\n",
      "0.37592867756315007\n",
      "Report : \n",
      "              precision    recall  f1-score   support\n",
      "\n",
      "    negative       0.53      0.19      0.28      1354\n",
      "     neutral       0.11      0.01      0.02       427\n",
      "    positive       0.35      0.82      0.49       911\n",
      "\n",
      "    accuracy                           0.38      2692\n",
      "   macro avg       0.33      0.34      0.26      2692\n",
      "weighted avg       0.40      0.38      0.31      2692\n",
      "\n"
     ]
    }
   ],
   "source": [
    "\n",
    "\n",
    "\n",
    "from sklearn.metrics import confusion_matrix\n",
    "from sklearn.metrics import accuracy_score \n",
    "from sklearn.metrics import classification_report \n",
    "\n",
    "labels = ['negative', 'neutral', 'positive']\n",
    "cm = confusion_matrix(actualResults, sentiment_category_tb,labels )\n",
    "print(cm)\n",
    "fig = plt.figure()\n",
    "ax = fig.add_subplot(111)\n",
    "cax = ax.matshow(cm)\n",
    "plt.title('Confusion matrix of the classifier')\n",
    "fig.colorbar(cax)\n",
    "ax.set_xticklabels([''] + labels)\n",
    "ax.set_yticklabels([''] + labels)\n",
    "plt.xlabel('Predicted')\n",
    "plt.ylabel('True')\n",
    "plt.show()\n",
    "\n",
    "print('Accuracy Score :')\n",
    "print(accuracy_score(actualResults, sentiment_category_tb))\n",
    "print ('Report : ')\n",
    "print (classification_report(actualResults, sentiment_category_tb))"
   ]
  },
  {
   "cell_type": "markdown",
   "metadata": {},
   "source": [
    "#### REFERENCES:\n",
    "##### https://blog.lftechnology.com/predicting-sentiment-on-news-data-45c5c22ec2e3\n",
    "##### https://www.geeksforgeeks.org/confusion-matrix-machine-learning/"
   ]
  }
 ],
 "metadata": {
  "kernelspec": {
   "display_name": "Python 3",
   "language": "python",
   "name": "python3"
  },
  "language_info": {
   "codemirror_mode": {
    "name": "ipython",
    "version": 3
   },
   "file_extension": ".py",
   "mimetype": "text/x-python",
   "name": "python",
   "nbconvert_exporter": "python",
   "pygments_lexer": "ipython3",
   "version": "3.7.6"
  }
 },
 "nbformat": 4,
 "nbformat_minor": 4
}
